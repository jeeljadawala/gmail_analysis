{
  "cells": [
    {
      "cell_type": "code",
      "execution_count": null,
      "metadata": {
        "id": "BtKbMMfPqKw9"
      },
      "outputs": [],
      "source": [
        "import imaplib\n",
        "import email\n",
        "import yaml\n",
        "\n",
        "import pandas as pd\n",
        "from tqdm import tqdm\n",
        "import matplotlib.pyplot as plt\n",
        "from email.header import decode_header\n",
        "\n",
        "import numpy as np\n",
        "from PIL import Image\n",
        "from wordcloud import WordCloud, STOPWORDS\n",
        "from matplotlib.colors import LinearSegmentedColormap"
      ]
    },
    {
      "cell_type": "code",
      "execution_count": null,
      "metadata": {
        "colab": {
          "base_uri": "https://localhost:8080/",
          "height": 338
        },
        "id": "DNPWtt__qKxA",
        "outputId": "3f48bf03-55bf-44ef-e4a9-8d7ea5487f35"
      },
      "outputs": [
        {
          "output_type": "error",
          "ename": "error",
          "evalue": "ignored",
          "traceback": [
            "\u001b[0;31m---------------------------------------------------------------------------\u001b[0m",
            "\u001b[0;31merror\u001b[0m                                     Traceback (most recent call last)",
            "\u001b[0;32m<ipython-input-14-eb70f98374cc>\u001b[0m in \u001b[0;36m<cell line: 8>\u001b[0;34m()\u001b[0m\n\u001b[1;32m      6\u001b[0m \u001b[0mimap_url\u001b[0m \u001b[0;34m=\u001b[0m\u001b[0;34m'imap.gmail.com'\u001b[0m\u001b[0;34m\u001b[0m\u001b[0;34m\u001b[0m\u001b[0m\n\u001b[1;32m      7\u001b[0m \u001b[0mmy_mail\u001b[0m \u001b[0;34m=\u001b[0m \u001b[0mimaplib\u001b[0m\u001b[0;34m.\u001b[0m\u001b[0mIMAP4_SSL\u001b[0m\u001b[0;34m(\u001b[0m\u001b[0mimap_url\u001b[0m\u001b[0;34m)\u001b[0m\u001b[0;34m\u001b[0m\u001b[0;34m\u001b[0m\u001b[0m\n\u001b[0;32m----> 8\u001b[0;31m \u001b[0mmy_mail\u001b[0m\u001b[0;34m.\u001b[0m\u001b[0mlogin\u001b[0m\u001b[0;34m(\u001b[0m\u001b[0muser\u001b[0m\u001b[0;34m,\u001b[0m \u001b[0mpassword\u001b[0m\u001b[0;34m)\u001b[0m\u001b[0;34m\u001b[0m\u001b[0;34m\u001b[0m\u001b[0m\n\u001b[0m",
            "\u001b[0;32m/usr/lib/python3.10/imaplib.py\u001b[0m in \u001b[0;36mlogin\u001b[0;34m(self, user, password)\u001b[0m\n\u001b[1;32m    610\u001b[0m         \u001b[0mtyp\u001b[0m\u001b[0;34m,\u001b[0m \u001b[0mdat\u001b[0m \u001b[0;34m=\u001b[0m \u001b[0mself\u001b[0m\u001b[0;34m.\u001b[0m\u001b[0m_simple_command\u001b[0m\u001b[0;34m(\u001b[0m\u001b[0;34m'LOGIN'\u001b[0m\u001b[0;34m,\u001b[0m \u001b[0muser\u001b[0m\u001b[0;34m,\u001b[0m \u001b[0mself\u001b[0m\u001b[0;34m.\u001b[0m\u001b[0m_quote\u001b[0m\u001b[0;34m(\u001b[0m\u001b[0mpassword\u001b[0m\u001b[0;34m)\u001b[0m\u001b[0;34m)\u001b[0m\u001b[0;34m\u001b[0m\u001b[0;34m\u001b[0m\u001b[0m\n\u001b[1;32m    611\u001b[0m         \u001b[0;32mif\u001b[0m \u001b[0mtyp\u001b[0m \u001b[0;34m!=\u001b[0m \u001b[0;34m'OK'\u001b[0m\u001b[0;34m:\u001b[0m\u001b[0;34m\u001b[0m\u001b[0;34m\u001b[0m\u001b[0m\n\u001b[0;32m--> 612\u001b[0;31m             \u001b[0;32mraise\u001b[0m \u001b[0mself\u001b[0m\u001b[0;34m.\u001b[0m\u001b[0merror\u001b[0m\u001b[0;34m(\u001b[0m\u001b[0mdat\u001b[0m\u001b[0;34m[\u001b[0m\u001b[0;34m-\u001b[0m\u001b[0;36m1\u001b[0m\u001b[0;34m]\u001b[0m\u001b[0;34m)\u001b[0m\u001b[0;34m\u001b[0m\u001b[0;34m\u001b[0m\u001b[0m\n\u001b[0m\u001b[1;32m    613\u001b[0m         \u001b[0mself\u001b[0m\u001b[0;34m.\u001b[0m\u001b[0mstate\u001b[0m \u001b[0;34m=\u001b[0m \u001b[0;34m'AUTH'\u001b[0m\u001b[0;34m\u001b[0m\u001b[0;34m\u001b[0m\u001b[0m\n\u001b[1;32m    614\u001b[0m         \u001b[0;32mreturn\u001b[0m \u001b[0mtyp\u001b[0m\u001b[0;34m,\u001b[0m \u001b[0mdat\u001b[0m\u001b[0;34m\u001b[0m\u001b[0;34m\u001b[0m\u001b[0m\n",
            "\u001b[0;31merror\u001b[0m: b'[AUTHENTICATIONFAILED] Invalid credentials (Failure)'"
          ]
        }
      ],
      "source": [
        "with open('/content/drive/MyDrive/Resources/credenciales.yaml') as f:\n",
        "    content = f.read()\n",
        "my_credentials = yaml.load(content, Loader = yaml.FullLoader)\n",
        "user, password = my_credentials['user'], my_credentials['password']\n",
        "\n",
        "imap_url ='imap.gmail.com'\n",
        "my_mail = imaplib.IMAP4_SSL(imap_url)\n",
        "my_mail.login(user, password)"
      ]
    },
    {
      "cell_type": "code",
      "source": [
        "from google.colab import drive\n",
        "drive.mount('/content/drive')"
      ],
      "metadata": {
        "colab": {
          "base_uri": "https://localhost:8080/"
        },
        "id": "PGDPqPc_qfi9",
        "outputId": "da224633-476d-44a7-e63d-187300141465"
      },
      "execution_count": null,
      "outputs": [
        {
          "output_type": "stream",
          "name": "stdout",
          "text": [
            "Drive already mounted at /content/drive; to attempt to forcibly remount, call drive.mount(\"/content/drive\", force_remount=True).\n"
          ]
        }
      ]
    },
    {
      "cell_type": "code",
      "execution_count": null,
      "metadata": {
        "id": "P0QyElDyqKxB",
        "colab": {
          "base_uri": "https://localhost:8080/",
          "height": 327
        },
        "outputId": "45636510-01b9-4987-8fc3-93ce96e81e73"
      },
      "outputs": [
        {
          "output_type": "error",
          "ename": "error",
          "evalue": "ignored",
          "traceback": [
            "\u001b[0;31m---------------------------------------------------------------------------\u001b[0m",
            "\u001b[0;31merror\u001b[0m                                     Traceback (most recent call last)",
            "\u001b[0;32m<ipython-input-16-0602f492179c>\u001b[0m in \u001b[0;36m<cell line: 1>\u001b[0;34m()\u001b[0m\n\u001b[0;32m----> 1\u001b[0;31m \u001b[0mmy_mail\u001b[0m\u001b[0;34m.\u001b[0m\u001b[0mselect\u001b[0m\u001b[0;34m(\u001b[0m\u001b[0;34m'Inbox'\u001b[0m\u001b[0;34m)\u001b[0m\u001b[0;34m\u001b[0m\u001b[0;34m\u001b[0m\u001b[0m\n\u001b[0m",
            "\u001b[0;32m/usr/lib/python3.10/imaplib.py\u001b[0m in \u001b[0;36mselect\u001b[0;34m(self, mailbox, readonly)\u001b[0m\n\u001b[1;32m    754\u001b[0m         \u001b[0;32melse\u001b[0m\u001b[0;34m:\u001b[0m\u001b[0;34m\u001b[0m\u001b[0;34m\u001b[0m\u001b[0m\n\u001b[1;32m    755\u001b[0m             \u001b[0mname\u001b[0m \u001b[0;34m=\u001b[0m \u001b[0;34m'SELECT'\u001b[0m\u001b[0;34m\u001b[0m\u001b[0;34m\u001b[0m\u001b[0m\n\u001b[0;32m--> 756\u001b[0;31m         \u001b[0mtyp\u001b[0m\u001b[0;34m,\u001b[0m \u001b[0mdat\u001b[0m \u001b[0;34m=\u001b[0m \u001b[0mself\u001b[0m\u001b[0;34m.\u001b[0m\u001b[0m_simple_command\u001b[0m\u001b[0;34m(\u001b[0m\u001b[0mname\u001b[0m\u001b[0;34m,\u001b[0m \u001b[0mmailbox\u001b[0m\u001b[0;34m)\u001b[0m\u001b[0;34m\u001b[0m\u001b[0;34m\u001b[0m\u001b[0m\n\u001b[0m\u001b[1;32m    757\u001b[0m         \u001b[0;32mif\u001b[0m \u001b[0mtyp\u001b[0m \u001b[0;34m!=\u001b[0m \u001b[0;34m'OK'\u001b[0m\u001b[0;34m:\u001b[0m\u001b[0;34m\u001b[0m\u001b[0;34m\u001b[0m\u001b[0m\n\u001b[1;32m    758\u001b[0m             \u001b[0mself\u001b[0m\u001b[0;34m.\u001b[0m\u001b[0mstate\u001b[0m \u001b[0;34m=\u001b[0m \u001b[0;34m'AUTH'\u001b[0m     \u001b[0;31m# Might have been 'SELECTED'\u001b[0m\u001b[0;34m\u001b[0m\u001b[0;34m\u001b[0m\u001b[0m\n",
            "\u001b[0;32m/usr/lib/python3.10/imaplib.py\u001b[0m in \u001b[0;36m_simple_command\u001b[0;34m(self, name, *args)\u001b[0m\n\u001b[1;32m   1228\u001b[0m     \u001b[0;32mdef\u001b[0m \u001b[0m_simple_command\u001b[0m\u001b[0;34m(\u001b[0m\u001b[0mself\u001b[0m\u001b[0;34m,\u001b[0m \u001b[0mname\u001b[0m\u001b[0;34m,\u001b[0m \u001b[0;34m*\u001b[0m\u001b[0margs\u001b[0m\u001b[0;34m)\u001b[0m\u001b[0;34m:\u001b[0m\u001b[0;34m\u001b[0m\u001b[0;34m\u001b[0m\u001b[0m\n\u001b[1;32m   1229\u001b[0m \u001b[0;34m\u001b[0m\u001b[0m\n\u001b[0;32m-> 1230\u001b[0;31m         \u001b[0;32mreturn\u001b[0m \u001b[0mself\u001b[0m\u001b[0;34m.\u001b[0m\u001b[0m_command_complete\u001b[0m\u001b[0;34m(\u001b[0m\u001b[0mname\u001b[0m\u001b[0;34m,\u001b[0m \u001b[0mself\u001b[0m\u001b[0;34m.\u001b[0m\u001b[0m_command\u001b[0m\u001b[0;34m(\u001b[0m\u001b[0mname\u001b[0m\u001b[0;34m,\u001b[0m \u001b[0;34m*\u001b[0m\u001b[0margs\u001b[0m\u001b[0;34m)\u001b[0m\u001b[0;34m)\u001b[0m\u001b[0;34m\u001b[0m\u001b[0;34m\u001b[0m\u001b[0m\n\u001b[0m\u001b[1;32m   1231\u001b[0m \u001b[0;34m\u001b[0m\u001b[0m\n\u001b[1;32m   1232\u001b[0m \u001b[0;34m\u001b[0m\u001b[0m\n",
            "\u001b[0;32m/usr/lib/python3.10/imaplib.py\u001b[0m in \u001b[0;36m_command\u001b[0;34m(self, name, *args)\u001b[0m\n\u001b[1;32m    966\u001b[0m         \u001b[0;32mif\u001b[0m \u001b[0mself\u001b[0m\u001b[0;34m.\u001b[0m\u001b[0mstate\u001b[0m \u001b[0;32mnot\u001b[0m \u001b[0;32min\u001b[0m \u001b[0mCommands\u001b[0m\u001b[0;34m[\u001b[0m\u001b[0mname\u001b[0m\u001b[0;34m]\u001b[0m\u001b[0;34m:\u001b[0m\u001b[0;34m\u001b[0m\u001b[0;34m\u001b[0m\u001b[0m\n\u001b[1;32m    967\u001b[0m             \u001b[0mself\u001b[0m\u001b[0;34m.\u001b[0m\u001b[0mliteral\u001b[0m \u001b[0;34m=\u001b[0m \u001b[0;32mNone\u001b[0m\u001b[0;34m\u001b[0m\u001b[0;34m\u001b[0m\u001b[0m\n\u001b[0;32m--> 968\u001b[0;31m             raise self.error(\"command %s illegal in state %s, \"\n\u001b[0m\u001b[1;32m    969\u001b[0m                              \u001b[0;34m\"only allowed in states %s\"\u001b[0m \u001b[0;34m%\u001b[0m\u001b[0;34m\u001b[0m\u001b[0;34m\u001b[0m\u001b[0m\n\u001b[1;32m    970\u001b[0m                              (name, self.state,\n",
            "\u001b[0;31merror\u001b[0m: command SELECT illegal in state NONAUTH, only allowed in states AUTH, SELECTED"
          ]
        }
      ],
      "source": [
        "\n",
        "my_mail.select('Inbox')"
      ]
    },
    {
      "cell_type": "code",
      "execution_count": null,
      "metadata": {
        "id": "msa7a2nDqKxB"
      },
      "outputs": [],
      "source": [
        "total_correos = int(my_mail.select('Inbox')[1][0].decode('utf-8'))\n",
        "total_correos"
      ]
    },
    {
      "cell_type": "code",
      "execution_count": null,
      "metadata": {
        "id": "wjCUYwxHqKxB"
      },
      "outputs": [],
      "source": [
        "email_df = pd.DataFrame(columns=['Date','From','Subject'], index=range(total_correos,0,-1))\n",
        "\n",
        "for i in tqdm(range(total_correos, 0, -1)):\n",
        "    data = my_mail.fetch(str(i),'(UID RFC822)')\n",
        "    for response_part in data:\n",
        "        arr = response_part[0]\n",
        "        if isinstance(arr, tuple):\n",
        "            try: msg = email.message_from_string(str(arr[1],'utf-8'))\n",
        "            except: msg = email.message_from_string(str(arr[1],'latin-1'))\n",
        "            new_row = pd.Series({\"Date\":msg['Date'] , \"From\":msg['from'], \"Subject\":msg['subject']})\n",
        "    email_df = email_df.append(new_row, ignore_index=True)\n",
        "\n",
        "email_df = email_df.dropna(how='all').reset_index(drop=True)\n",
        "email_df"
      ]
    },
    {
      "cell_type": "code",
      "execution_count": null,
      "metadata": {
        "id": "SDzNuY-IqKxC"
      },
      "outputs": [],
      "source": [
        "email_df.to_csv('Data/email_df.csv', index=False, encoding='utf-8')"
      ]
    },
    {
      "cell_type": "code",
      "execution_count": null,
      "metadata": {
        "id": "jVOBiuuBqKxC"
      },
      "outputs": [],
      "source": [
        "# email_df = pd.read_csv('Data/email_df.csv').fillna('')\n",
        "# email_df.head(20)"
      ]
    },
    {
      "cell_type": "code",
      "execution_count": null,
      "metadata": {
        "id": "_wFx7hV1qKxC"
      },
      "outputs": [],
      "source": [
        "# print(msg.keys())"
      ]
    },
    {
      "cell_type": "code",
      "execution_count": null,
      "metadata": {
        "id": "wAl0ReBmqKxC"
      },
      "outputs": [],
      "source": [
        "def get_email_from(x):\n",
        "    x_mod = x.split('<')[-1].split('>')[0]\n",
        "    return x_mod\n"
      ]
    },
    {
      "cell_type": "code",
      "execution_count": null,
      "metadata": {
        "id": "JZGleGDPqKxD"
      },
      "outputs": [],
      "source": [
        "from email.header import decode_header\n",
        "\n",
        "def get_name_from(x):\n",
        "    text, encoding = decode_header(x)[0]\n",
        "    if not encoding and isinstance(text, str):\n",
        "        text = ' '.join(text.split(' ')[:-1])\n",
        "    else:\n",
        "        text = text.decode('utf-8', errors='ignore')\n",
        "\n",
        "    text = text.replace('\"', '')\n",
        "    return text\n"
      ]
    },
    {
      "cell_type": "code",
      "execution_count": null,
      "metadata": {
        "id": "z8ZE23N5qKxD"
      },
      "outputs": [],
      "source": [
        "from email.header import decode_header\n",
        "\n",
        "def clean_subject(x):\n",
        "    if x:\n",
        "        text, encoding = decode_header(x)[0]\n",
        "        try:\n",
        "            text = text.decode('utf-8', errors='ignore')\n",
        "        except:\n",
        "            pass\n",
        "    else:\n",
        "        text = x\n",
        "    return text\n"
      ]
    },
    {
      "cell_type": "code",
      "execution_count": null,
      "metadata": {
        "id": "mhP28mjFqKxD"
      },
      "outputs": [],
      "source": [
        "# Extract email addresses from the 'From' column and create a new 'Mail' column\n",
        "email_df['Mail'] = email_df['From'].apply(lambda x: get_email_from(x))\n",
        "\n",
        "# Extract names from the 'From' column and create a new 'Name' column\n",
        "email_df['Name'] = email_df['From'].apply(lambda x: get_name_from(x))\n",
        "\n",
        "# Clean and decode subject lines from the 'Subject' column and update it\n",
        "email_df['Subject'] = email_df['Subject'].apply(lambda x: clean_subject(x))\n",
        "\n",
        "# Drop the 'From' column from the DataFrame\n",
        "email_df = email_df.drop(columns=['From'])\n",
        "\n",
        "# Display the first few rows of the modified DataFrame\n",
        "email_df.head()\n"
      ]
    },
    {
      "cell_type": "code",
      "execution_count": null,
      "metadata": {
        "id": "w8gVTc-sqKxD"
      },
      "outputs": [],
      "source": [
        "def clean_date(x):\n",
        "    if ',' not in x:\n",
        "        x = ', ' + x\n",
        "    if '(' in x:\n",
        "        x = ' '.join(x.split(' ')[:-1])\n",
        "    x = ' '.join(x.split(' ')[:-1])\n",
        "    return x\n"
      ]
    },
    {
      "cell_type": "code",
      "execution_count": null,
      "metadata": {
        "id": "lZfKnc8nqKxD"
      },
      "outputs": [],
      "source": [
        "def obtener_dia(x):\n",
        "    x = x.strftime('%A')\n",
        "    return x"
      ]
    },
    {
      "cell_type": "code",
      "execution_count": null,
      "metadata": {
        "id": "ZT9hDlgYqKxD"
      },
      "outputs": [],
      "source": [
        "# Clean and format the 'Date' column\n",
        "email_df['Date'] = email_df['Date'].apply(lambda x: clean_date(x))\n",
        "\n",
        "# Split the cleaned date string by ', ' and take the last part\n",
        "email_df['Date'] = email_df['Date'].str.split(', ').str[-1]\n",
        "\n",
        "# Extract 'H_M_S' (Hour, Minute, Second) part from the 'Date' column\n",
        "email_df['H_M_S'] = email_df['Date'].apply(lambda x: x[-8:])\n",
        "\n",
        "# Calculate 'Hour' column based on 'H_M_S'\n",
        "email_df['Hour'] = email_df['H_M_S'].apply(lambda x: x[:2]+'h-'+str(int(x[:2])+1).zfill(2)+'h')\n",
        "\n",
        "# Modify 'Date' column to have the day, month, and year format\n",
        "email_df['Date'] = email_df['Date'].apply(lambda x: x[:-9] if len(x[:-9])==11 else '0'+x[:-9])\n",
        "\n",
        "# Convert the 'Date' column to datetime format using the specified format\n",
        "email_df['Date'] = pd.to_datetime(email_df['Date'], format='%d %b %Y')\n",
        "\n",
        "# Obtain the 'WeekDay' column\n",
        "email_df['WeekDay'] = email_df['Date'].apply(lambda x: get_day(x))\n",
        "\n",
        "# Display the first few rows of the modified DataFrame\n",
        "email_df.head()\n"
      ]
    },
    {
      "cell_type": "code",
      "execution_count": null,
      "metadata": {
        "id": "WkCfjrDZqKxE"
      },
      "outputs": [],
      "source": [
        "email_df.to_csv('Data/email_df_final.csv', quotechar='\"', sep='|', index=False, encoding='utf-8')"
      ]
    },
    {
      "cell_type": "code",
      "execution_count": null,
      "metadata": {
        "id": "7Sc5QxVDqKxE"
      },
      "outputs": [],
      "source": [
        "import numpy as np\n",
        "from matplotlib.colors import LinearSegmentedColormap\n",
        "\n",
        "# Define a function to interpolate values from the range [0, 255] to the range [0, 1]\n",
        "def inter_from_256(x):\n",
        "    return np.interp(x=x, xp=[0, 255], fp=[0, 1])\n",
        "\n",
        "# Define color dictionary using interpolation for the 'red', 'green', and 'blue' channels\n",
        "cdict = {\n",
        "    'red': (\n",
        "        (0.0, inter_from_256(197), inter_from_256(197)),\n",
        "        (1/5*1, inter_from_256(52), inter_from_256(52)),\n",
        "        (1/5*3, inter_from_256(66), inter_from_256(66)),\n",
        "        (1/5*4, inter_from_256(234), inter_from_256(234)),\n",
        "        (1.0, inter_from_256(251), inter_from_256(251))\n",
        "    ),\n",
        "    'green': (\n",
        "        (0.0, inter_from_256(34), inter_from_256(34)),\n",
        "        (1/5*1, inter_from_256(168), inter_from_256(168)),\n",
        "        (1/5*3, inter_from_256(133), inter_from_256(133)),\n",
        "        (1/5*4, inter_from_256(67), inter_from_256(67)),\n",
        "        (1.0, inter_from_256(188), inter_from_256(188))\n",
        "    ),\n",
        "    'blue': (\n",
        "        (0.0, inter_from_256(31), inter_from_256(31)),\n",
        "        (1/5*1, inter_from_256(83), inter_from_256(83)),\n",
        "        (1/5*3, inter_from_256(244), inter_from_256(244)),\n",
        "        (1/5*4, inter_from_256(53), inter_from_256(53)),\n",
        "        (1.0, inter_from_256(4), inter_from_256(4))\n",
        "    ),\n",
        "}\n",
        "\n",
        "# Create a LinearSegmentedColormap named 'gmail' using the defined color dictionary\n",
        "gmail = LinearSegmentedColormap('gmail', segmentdata=cdict)\n"
      ]
    },
    {
      "cell_type": "code",
      "execution_count": null,
      "metadata": {
        "id": "pwZcPEGkqKxE"
      },
      "outputs": [],
      "source": [
        "from wordcloud import WordCloud, STOPWORDS\n",
        "import numpy as np\n",
        "from PIL import Image\n",
        "\n",
        "# Initialize an empty string to store subject words\n",
        "total_subjects = ' '\n",
        "\n",
        "# Update the set of stopwords with additional words\n",
        "stopwords = STOPWORDS.update(['al', 'de', 'en', ...])  # A list of common stopwords\n",
        "\n",
        "# Load an image to use as a mask for the word cloud\n",
        "mask = np.array(Image.open('Resources/gmail.jpg'))\n",
        "\n",
        "# Iterate through the subjects in the DataFrame and concatenate subject words\n",
        "for mensaje in email_df['Subject'].values:\n",
        "    subjects = str(mensaje).lower().split()\n",
        "    for subject in subjects:\n",
        "        total_subjects = total_subjects + subject + ' '\n",
        "\n",
        "# Create a WordCloud instance with custom settings\n",
        "wordcloud = WordCloud(\n",
        "    scale=2.5,\n",
        "    width=1000,\n",
        "    height=800,\n",
        "    background_color='black',\n",
        "    mask=mask,\n",
        "    colormap=gmail,  # Using the custom colormap named 'gmail'\n",
        "    stopwords=stopwords,\n",
        "    min_font_size=6\n",
        ").generate(total_subjects)\n",
        "\n",
        "# Convert the word cloud to an image\n",
        "wordcloud.to_image()\n"
      ]
    }
  ],
  "metadata": {
    "kernelspec": {
      "display_name": "Python 3",
      "language": "python",
      "name": "python3"
    },
    "language_info": {
      "codemirror_mode": {
        "name": "ipython",
        "version": 3
      },
      "file_extension": ".py",
      "mimetype": "text/x-python",
      "name": "python",
      "nbconvert_exporter": "python",
      "pygments_lexer": "ipython3",
      "version": "3.7.4"
    },
    "colab": {
      "provenance": []
    }
  },
  "nbformat": 4,
  "nbformat_minor": 0
}